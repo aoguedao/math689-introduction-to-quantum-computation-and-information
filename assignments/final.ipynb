{
 "cells": [
  {
   "cell_type": "markdown",
   "metadata": {},
   "source": [
    "# Midterm"
   ]
  },
  {
   "cell_type": "code",
   "execution_count": null,
   "metadata": {},
   "outputs": [],
   "source": [
    "import numpy as np\n",
    "import pandas as pd\n",
    "import matplotlib.pyplot as plt\n",
    "import seaborn as sns\n",
    "\n",
    "from pathlib import Path\n",
    "from qiskit import QuantumCircuit\n",
    "from qiskit.quantum_info import Statevector\n",
    "from qiskit_ibm_runtime import QiskitRuntimeService, Sampler, Session, Options\n",
    "\n",
    "sns.set_style(\"whitegrid\")\n",
    "sns.set_context(\"paper\")"
   ]
  },
  {
   "cell_type": "code",
   "execution_count": null,
   "metadata": {},
   "outputs": [],
   "source": [
    "output_path = Path() / \"midterm_output\"\n",
    "output_path.mkdir(parents=True, exist_ok=True)\n",
    "\n",
    "service = QiskitRuntimeService(channel=\"ibm_quantum\")\n",
    "backend_sim = service.get_backend(\"ibmq_qasm_simulator\")\n",
    "backend_qc = service.least_busy(simulator=False)\n",
    "\n",
    "# options_sim = Options()\n",
    "# options_sim.simulator.seed_simulator = 42\n",
    "# options_sim.execution.shots = 2000\n",
    "# options_sim.optimization_level = 0 # no optimization\n",
    "# options_sim.resilience_level = 0 # no error mitigation"
   ]
  },
  {
   "cell_type": "code",
   "execution_count": null,
   "metadata": {},
   "outputs": [],
   "source": [
    "n_bits = 3\n",
    "numbers = np.arange(2 ** n_bits)\n",
    "for i in numbers:\n",
    "    j = np.binary_repr(i, width=n_bits)\n",
    "    print(f\"{i} ---> {j}\")"
   ]
  },
  {
   "cell_type": "markdown",
   "metadata": {},
   "source": [
    "## Step 1"
   ]
  },
  {
   "cell_type": "code",
   "execution_count": null,
   "metadata": {},
   "outputs": [],
   "source": [
    "def increment_1_circuit(i):\n",
    "    j = np.binary_repr(i, width=3)\n",
    "    sv = Statevector.from_label(j).data\n",
    "    circuit = QuantumCircuit(3)\n",
    "    circuit.initialize(sv, circuit.qubits)\n",
    "    circuit.cnot(0, 1)\n",
    "    circuit.x(1)\n",
    "    circuit.ccx(0, 1, 2)\n",
    "    circuit.x([0, 1])\n",
    "    circuit.measure_all()\n",
    "    return circuit"
   ]
  },
  {
   "cell_type": "code",
   "execution_count": null,
   "metadata": {},
   "outputs": [],
   "source": [
    "circuit_example_1 = increment_1_circuit(1)\n",
    "circuit_example_1.draw(\"mpl\", plot_barriers=False, filename=None)#output_path / \"circuit.png\")"
   ]
  },
  {
   "cell_type": "code",
   "execution_count": null,
   "metadata": {},
   "outputs": [],
   "source": [
    "# Simulator\n",
    "with Session(service=service, backend=backend_sim) as session_sim:\n",
    "    sampler = Sampler(session=session_sim)\n",
    "    job = sampler.run([increment_1_circuit(i) for i in numbers] )\n",
    "    result = job.result()\n",
    "dict_1_sim = {i: max(d, key=d.get) for i, d in zip(numbers, result.quasi_dists)}\n",
    "dict_1_sim"
   ]
  },
  {
   "cell_type": "code",
   "execution_count": null,
   "metadata": {},
   "outputs": [],
   "source": [
    "# Quantum Computer\n",
    "with Session(service=service, backend=backend_qc) as session_qc:\n",
    "    sampler = Sampler(session=session_qc)\n",
    "    job = sampler.run([increment_1_circuit(i) for i in numbers] )\n",
    "    result = job.result()\n",
    "dict_1_qc = {i: max(d, key=d.get) for i, d in zip(numbers, result.quasi_dists)}\n",
    "dict_1_qc"
   ]
  },
  {
   "cell_type": "markdown",
   "metadata": {},
   "source": [
    "## Step 2"
   ]
  },
  {
   "cell_type": "code",
   "execution_count": null,
   "metadata": {},
   "outputs": [],
   "source": [
    "def increment_3_circuit(i):\n",
    "    j = np.binary_repr(i, width=3)\n",
    "    sv = Statevector.from_label(j).data\n",
    "    circuit = QuantumCircuit(3)\n",
    "    circuit.initialize(sv, circuit.qubits)\n",
    "    circuit.cnot(0, 1)\n",
    "    circuit.x(1)\n",
    "    circuit.ccx(0, 1, 2)\n",
    "    circuit.x(0)\n",
    "    circuit.cnot(0, 1)\n",
    "    circuit.ccx(0, 1, 2)\n",
    "    circuit.x(0)\n",
    "    circuit.cnot(0, 1)\n",
    "    circuit.ccx(0, 1, 2)\n",
    "    circuit.x([0, 1])\n",
    "    circuit.measure_all()\n",
    "    return circuit"
   ]
  },
  {
   "cell_type": "code",
   "execution_count": null,
   "metadata": {},
   "outputs": [],
   "source": [
    "circuit_example_3 = increment_3_circuit(1)\n",
    "circuit_example_3.draw(\"mpl\", plot_barriers=False, filename=None)#output_path / \"circuit.png\")"
   ]
  },
  {
   "cell_type": "code",
   "execution_count": null,
   "metadata": {},
   "outputs": [],
   "source": [
    "# Simulator\n",
    "with Session(service=service, backend=backend_sim) as session_sim:\n",
    "    sampler = Sampler(session=session_sim)\n",
    "    job = sampler.run([increment_3_circuit(i) for i in numbers] )\n",
    "    result = job.result()\n",
    "dict_3_sim = {i: max(d, key=d.get) for i, d in zip(numbers, result.quasi_dists)}\n",
    "dict_3_sim"
   ]
  },
  {
   "cell_type": "code",
   "execution_count": null,
   "metadata": {},
   "outputs": [],
   "source": [
    "# Quantum Computer\n",
    "with Session(service=service, backend=backend_qc) as session_qc:\n",
    "    sampler = Sampler(session=session_qc)\n",
    "    job = sampler.run([increment_3_circuit(i) for i in numbers] )\n",
    "    result = job.result()\n",
    "dict_3_qc = {i: max(d, key=d.get) for i, d in zip(numbers, result.quasi_dists)}\n",
    "dict_3_qc"
   ]
  }
 ],
 "metadata": {
  "kernelspec": {
   "display_name": "quantum",
   "language": "python",
   "name": "python3"
  },
  "language_info": {
   "codemirror_mode": {
    "name": "ipython",
    "version": 3
   },
   "file_extension": ".py",
   "mimetype": "text/x-python",
   "name": "python",
   "nbconvert_exporter": "python",
   "pygments_lexer": "ipython3",
   "version": "3.11.6"
  }
 },
 "nbformat": 4,
 "nbformat_minor": 2
}
